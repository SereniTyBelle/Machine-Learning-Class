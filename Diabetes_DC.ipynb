{
 "cells": [
  {
   "cell_type": "markdown",
   "id": "2d8217d5",
   "metadata": {},
   "source": [
    "Lakukan klasifikasi menggunaakan decision tree dari Data diabetes.csv"
   ]
  },
  {
   "cell_type": "markdown",
   "id": "df2a2a5f",
   "metadata": {},
   "source": [
    "1. Baca data diabetes"
   ]
  },
  {
   "cell_type": "code",
   "execution_count": null,
   "id": "3739d08a",
   "metadata": {},
   "outputs": [],
   "source": []
  },
  {
   "cell_type": "markdown",
   "id": "9f7a4ed2",
   "metadata": {},
   "source": [
    "2. Tampilkan 5 baris pertama dari dataset"
   ]
  },
  {
   "cell_type": "code",
   "execution_count": null,
   "id": "f93e17d8",
   "metadata": {},
   "outputs": [],
   "source": []
  },
  {
   "cell_type": "markdown",
   "id": "52a90754",
   "metadata": {},
   "source": [
    "3. Explore variabel 'Outcome'. Outcome = 1 bearti pasien memiliki penyakit diabetes dan Outcome = 0 menandakan pasien tidak memiliki penyakit diabetes"
   ]
  },
  {
   "cell_type": "code",
   "execution_count": null,
   "id": "4133561a",
   "metadata": {},
   "outputs": [],
   "source": []
  },
  {
   "cell_type": "markdown",
   "id": "a7425578",
   "metadata": {},
   "source": [
    "4. Periksa adanya missing values dalam dataset"
   ]
  },
  {
   "cell_type": "code",
   "execution_count": null,
   "id": "bf7510a4",
   "metadata": {},
   "outputs": [],
   "source": []
  },
  {
   "cell_type": "markdown",
   "id": "3fdc6c84",
   "metadata": {},
   "source": [
    "5. Tentukan vektor fitur (features) dan variabel target (class)"
   ]
  },
  {
   "cell_type": "code",
   "execution_count": null,
   "id": "f28dd131",
   "metadata": {},
   "outputs": [],
   "source": []
  },
  {
   "cell_type": "markdown",
   "id": "4b8fbc51",
   "metadata": {},
   "source": [
    "7. Membagi dataset menjadi 70% data latih (trainig set) dan 30% data uji (testing set)"
   ]
  },
  {
   "cell_type": "code",
   "execution_count": null,
   "id": "acd3ae9f",
   "metadata": {},
   "outputs": [],
   "source": []
  },
  {
   "cell_type": "markdown",
   "id": "edd14a8a",
   "metadata": {},
   "source": [
    "8. Lakukan prediksi dengan data uji"
   ]
  },
  {
   "cell_type": "code",
   "execution_count": null,
   "id": "32d010a7",
   "metadata": {},
   "outputs": [],
   "source": []
  },
  {
   "cell_type": "markdown",
   "id": "83e644ba",
   "metadata": {},
   "source": [
    "9. Tampilkan skor akurasi dari hasil prediksi menggunakan data uji"
   ]
  },
  {
   "cell_type": "code",
   "execution_count": null,
   "id": "82b7702c",
   "metadata": {},
   "outputs": [],
   "source": []
  },
  {
   "cell_type": "markdown",
   "id": "f9a2f18b",
   "metadata": {},
   "source": [
    "10. Bandingkan akurasi data latih (training set) dan data uji (testing set)"
   ]
  },
  {
   "cell_type": "code",
   "execution_count": null,
   "id": "435cff9a",
   "metadata": {},
   "outputs": [],
   "source": []
  },
  {
   "cell_type": "markdown",
   "id": "b65594ab",
   "metadata": {},
   "source": [
    "11. Buat visualisai Decision Tree yang telah dibuat"
   ]
  },
  {
   "cell_type": "code",
   "execution_count": null,
   "id": "be26bc5f",
   "metadata": {},
   "outputs": [],
   "source": []
  },
  {
   "cell_type": "markdown",
   "id": "dfcfcd9c",
   "metadata": {},
   "source": [
    "12. Buatlah Confusion matrix dari hasil klasifikasi yang telah dilakukan!"
   ]
  },
  {
   "cell_type": "code",
   "execution_count": null,
   "id": "5ca74ab0",
   "metadata": {},
   "outputs": [],
   "source": []
  },
  {
   "cell_type": "markdown",
   "id": "9a6a8019",
   "metadata": {},
   "source": [
    "13. Tampilkan Classification Report"
   ]
  },
  {
   "cell_type": "code",
   "execution_count": null,
   "id": "72235fc7",
   "metadata": {},
   "outputs": [],
   "source": []
  }
 ],
 "metadata": {
  "kernelspec": {
   "display_name": "Python 3",
   "language": "python",
   "name": "python3"
  },
  "language_info": {
   "codemirror_mode": {
    "name": "ipython",
    "version": 3
   },
   "file_extension": ".py",
   "mimetype": "text/x-python",
   "name": "python",
   "nbconvert_exporter": "python",
   "pygments_lexer": "ipython3",
   "version": "3.9.5"
  }
 },
 "nbformat": 4,
 "nbformat_minor": 5
}
