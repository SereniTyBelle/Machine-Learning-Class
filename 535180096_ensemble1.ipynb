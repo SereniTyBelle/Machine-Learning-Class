{
  "nbformat": 4,
  "nbformat_minor": 0,
  "metadata": {
    "colab": {
      "name": "535180096_ensemble1.ipynb",
      "provenance": [],
      "collapsed_sections": []
    },
    "kernelspec": {
      "name": "python3",
      "display_name": "Python 3"
    },
    "language_info": {
      "name": "python"
    }
  },
  "cells": [
    {
      "cell_type": "code",
      "metadata": {
        "colab": {
          "base_uri": "https://localhost:8080/",
          "height": 224
        },
        "id": "MVtPM2gkKdIY",
        "outputId": "adbb5603-977c-4cc5-c053-ee6f32bda9e1"
      },
      "source": [
        "from sklearn.model_selection import cross_val_score\n",
        "from sklearn.datasets import make_blobs\n",
        "from sklearn.ensemble import RandomForestClassifier\n",
        "from sklearn.ensemble import ExtraTreesClassifier\n",
        "from sklearn.tree import DecisionTreeClassifier\n",
        "\n",
        "import pandas as pd\n",
        "df = pd.read_csv(\"diabetes.csv\", header=None)\n",
        "df= df.iloc[1: , :]\n",
        "col_names=['Pregnancies', 'Glucose', 'BloodPressure', 'SkinThickness', 'Isuline',\n",
        "           'BMI', 'DiabetePedigreeFunction', 'Age', 'Outcome']\n",
        "\n",
        "df.columns = col_names\n",
        "\n",
        "col_names\n",
        "df.head()"
      ],
      "execution_count": 6,
      "outputs": [
        {
          "output_type": "execute_result",
          "data": {
            "text/html": [
              "<div>\n",
              "<style scoped>\n",
              "    .dataframe tbody tr th:only-of-type {\n",
              "        vertical-align: middle;\n",
              "    }\n",
              "\n",
              "    .dataframe tbody tr th {\n",
              "        vertical-align: top;\n",
              "    }\n",
              "\n",
              "    .dataframe thead th {\n",
              "        text-align: right;\n",
              "    }\n",
              "</style>\n",
              "<table border=\"1\" class=\"dataframe\">\n",
              "  <thead>\n",
              "    <tr style=\"text-align: right;\">\n",
              "      <th></th>\n",
              "      <th>Pregnancies</th>\n",
              "      <th>Glucose</th>\n",
              "      <th>BloodPressure</th>\n",
              "      <th>SkinThickness</th>\n",
              "      <th>Isuline</th>\n",
              "      <th>BMI</th>\n",
              "      <th>DiabetePedigreeFunction</th>\n",
              "      <th>Age</th>\n",
              "      <th>Outcome</th>\n",
              "    </tr>\n",
              "  </thead>\n",
              "  <tbody>\n",
              "    <tr>\n",
              "      <th>1</th>\n",
              "      <td>6</td>\n",
              "      <td>148</td>\n",
              "      <td>72</td>\n",
              "      <td>35</td>\n",
              "      <td>0</td>\n",
              "      <td>33.6</td>\n",
              "      <td>0.627</td>\n",
              "      <td>50</td>\n",
              "      <td>1</td>\n",
              "    </tr>\n",
              "    <tr>\n",
              "      <th>2</th>\n",
              "      <td>1</td>\n",
              "      <td>85</td>\n",
              "      <td>66</td>\n",
              "      <td>29</td>\n",
              "      <td>0</td>\n",
              "      <td>26.6</td>\n",
              "      <td>0.351</td>\n",
              "      <td>31</td>\n",
              "      <td>0</td>\n",
              "    </tr>\n",
              "    <tr>\n",
              "      <th>3</th>\n",
              "      <td>8</td>\n",
              "      <td>183</td>\n",
              "      <td>64</td>\n",
              "      <td>0</td>\n",
              "      <td>0</td>\n",
              "      <td>23.3</td>\n",
              "      <td>0.672</td>\n",
              "      <td>32</td>\n",
              "      <td>1</td>\n",
              "    </tr>\n",
              "    <tr>\n",
              "      <th>4</th>\n",
              "      <td>1</td>\n",
              "      <td>89</td>\n",
              "      <td>66</td>\n",
              "      <td>23</td>\n",
              "      <td>94</td>\n",
              "      <td>28.1</td>\n",
              "      <td>0.167</td>\n",
              "      <td>21</td>\n",
              "      <td>0</td>\n",
              "    </tr>\n",
              "    <tr>\n",
              "      <th>5</th>\n",
              "      <td>0</td>\n",
              "      <td>137</td>\n",
              "      <td>40</td>\n",
              "      <td>35</td>\n",
              "      <td>168</td>\n",
              "      <td>43.1</td>\n",
              "      <td>2.288</td>\n",
              "      <td>33</td>\n",
              "      <td>1</td>\n",
              "    </tr>\n",
              "  </tbody>\n",
              "</table>\n",
              "</div>"
            ],
            "text/plain": [
              "  Pregnancies Glucose BloodPressure  ... DiabetePedigreeFunction Age Outcome\n",
              "1           6     148            72  ...                   0.627  50       1\n",
              "2           1      85            66  ...                   0.351  31       0\n",
              "3           8     183            64  ...                   0.672  32       1\n",
              "4           1      89            66  ...                   0.167  21       0\n",
              "5           0     137            40  ...                   2.288  33       1\n",
              "\n",
              "[5 rows x 9 columns]"
            ]
          },
          "metadata": {},
          "execution_count": 6
        }
      ]
    },
    {
      "cell_type": "code",
      "metadata": {
        "colab": {
          "base_uri": "https://localhost:8080/"
        },
        "id": "57rP8Y0CMnaq",
        "outputId": "14ab77ee-29d7-4ffc-f4d8-ce883cda4de4"
      },
      "source": [
        "df.info()"
      ],
      "execution_count": 7,
      "outputs": [
        {
          "output_type": "stream",
          "name": "stdout",
          "text": [
            "<class 'pandas.core.frame.DataFrame'>\n",
            "RangeIndex: 768 entries, 1 to 768\n",
            "Data columns (total 9 columns):\n",
            " #   Column                   Non-Null Count  Dtype \n",
            "---  ------                   --------------  ----- \n",
            " 0   Pregnancies              768 non-null    object\n",
            " 1   Glucose                  768 non-null    object\n",
            " 2   BloodPressure            768 non-null    object\n",
            " 3   SkinThickness            768 non-null    object\n",
            " 4   Isuline                  768 non-null    object\n",
            " 5   BMI                      768 non-null    object\n",
            " 6   DiabetePedigreeFunction  768 non-null    object\n",
            " 7   Age                      768 non-null    object\n",
            " 8   Outcome                  768 non-null    object\n",
            "dtypes: object(9)\n",
            "memory usage: 54.1+ KB\n"
          ]
        }
      ]
    },
    {
      "cell_type": "code",
      "metadata": {
        "colab": {
          "base_uri": "https://localhost:8080/"
        },
        "id": "4xy3zSZGMskh",
        "outputId": "d408a656-99d6-4723-cb01-b739e5407319"
      },
      "source": [
        "df.columns"
      ],
      "execution_count": 8,
      "outputs": [
        {
          "output_type": "execute_result",
          "data": {
            "text/plain": [
              "Index(['Pregnancies', 'Glucose', 'BloodPressure', 'SkinThickness', 'Isuline',\n",
              "       'BMI', 'DiabetePedigreeFunction', 'Age', 'Outcome'],\n",
              "      dtype='object')"
            ]
          },
          "metadata": {},
          "execution_count": 8
        }
      ]
    },
    {
      "cell_type": "code",
      "metadata": {
        "colab": {
          "base_uri": "https://localhost:8080/"
        },
        "id": "uZc0jo6ZMyg9",
        "outputId": "92b7ec41-88b5-42f1-bae2-dfeda0c8ac63"
      },
      "source": [
        "df.shape"
      ],
      "execution_count": 9,
      "outputs": [
        {
          "output_type": "execute_result",
          "data": {
            "text/plain": [
              "(768, 9)"
            ]
          },
          "metadata": {},
          "execution_count": 9
        }
      ]
    },
    {
      "cell_type": "code",
      "metadata": {
        "colab": {
          "base_uri": "https://localhost:8080/"
        },
        "id": "sy92h5vwM0wh",
        "outputId": "0d06a55a-500d-44de-e145-8d302afd4cd9"
      },
      "source": [
        "df.isnull().sum()"
      ],
      "execution_count": 11,
      "outputs": [
        {
          "output_type": "execute_result",
          "data": {
            "text/plain": [
              "Pregnancies                0\n",
              "Glucose                    0\n",
              "BloodPressure              0\n",
              "SkinThickness              0\n",
              "Isuline                    0\n",
              "BMI                        0\n",
              "DiabetePedigreeFunction    0\n",
              "Age                        0\n",
              "Outcome                    0\n",
              "dtype: int64"
            ]
          },
          "metadata": {},
          "execution_count": 11
        }
      ]
    },
    {
      "cell_type": "code",
      "metadata": {
        "id": "BSvycoZwM1C3"
      },
      "source": [
        "#Variabel X adalah features\n",
        "X=df.drop(['Outcome'], axis=1)\n",
        "\n",
        "#Variabel Y adalah kelas\n",
        "y=df['Outcome']"
      ],
      "execution_count": 13,
      "outputs": []
    },
    {
      "cell_type": "code",
      "metadata": {
        "id": "S-f9CIZ-Oo3y"
      },
      "source": [
        "#Split X and Y into training and testing sets\n",
        "#70% training and 30% test\n",
        "\n",
        "from sklearn.model_selection import train_test_split\n",
        "\n",
        "X_train, X_test, y_train, y_test = train_test_split(X,y,test_size=0.3, random_state=1)"
      ],
      "execution_count": 17,
      "outputs": []
    },
    {
      "cell_type": "code",
      "metadata": {
        "colab": {
          "base_uri": "https://localhost:8080/"
        },
        "id": "uSKY9VcOOo_9",
        "outputId": "27037ac3-dfd9-4c4f-cd93-e54263070de4"
      },
      "source": [
        "clfRF=RandomForestClassifier(n_estimators=10)\n",
        "clfRF=clfRF.fit(X_train, y_train)\n",
        "clfRF.score(X_test,y_test)"
      ],
      "execution_count": 47,
      "outputs": [
        {
          "output_type": "execute_result",
          "data": {
            "text/plain": [
              "0.7705627705627706"
            ]
          },
          "metadata": {},
          "execution_count": 47
        }
      ]
    },
    {
      "cell_type": "code",
      "metadata": {
        "colab": {
          "base_uri": "https://localhost:8080/"
        },
        "id": "nE52OkaBOpMB",
        "outputId": "f7301cfa-51e8-4393-eaf9-7c7995bb9813"
      },
      "source": [
        "clfRF=RandomForestClassifier(n_estimators=10)\n",
        "clfRF=clfRF.fit(X_train,y_train)\n",
        "#menghitung akurasi hasil prediksi dengan test set(data uji)\n",
        "clfRF.score(X_test,y_test)"
      ],
      "execution_count": 48,
      "outputs": [
        {
          "output_type": "execute_result",
          "data": {
            "text/plain": [
              "0.7489177489177489"
            ]
          },
          "metadata": {},
          "execution_count": 48
        }
      ]
    },
    {
      "cell_type": "code",
      "metadata": {
        "colab": {
          "base_uri": "https://localhost:8080/"
        },
        "id": "miFVcQHbYkun",
        "outputId": "d9b64a1d-84d0-4017-e7a6-a233058b582a"
      },
      "source": [
        "y_predict_RF=clfRF.predict(X_test)\n",
        "from sklearn.metrics import accuracy_score\n",
        "print('Model accuracy score: {0:0.4f}'.format(accuracy_score(y_test,y_predict_RF)))"
      ],
      "execution_count": 49,
      "outputs": [
        {
          "output_type": "stream",
          "name": "stdout",
          "text": [
            "Model accuracy score: 0.7489\n"
          ]
        }
      ]
    },
    {
      "cell_type": "code",
      "metadata": {
        "colab": {
          "base_uri": "https://localhost:8080/"
        },
        "id": "pM5Z94h4YlF1",
        "outputId": "dc610dc1-5ed2-417e-f454-edf2a1d2a347"
      },
      "source": [
        "clfDF=DecisionTreeClassifier(max_depth=None, min_samples_split=2, random_state=0)\n",
        "clfDF=clfDF.fit(X_train,y_train)\n",
        "scores=cross_val_score(clfDF,X_train,y_train,cv=5)\n",
        "scores.mean()"
      ],
      "execution_count": 50,
      "outputs": [
        {
          "output_type": "execute_result",
          "data": {
            "text/plain": [
              "0.6666147455867082"
            ]
          },
          "metadata": {},
          "execution_count": 50
        }
      ]
    },
    {
      "cell_type": "code",
      "metadata": {
        "colab": {
          "base_uri": "https://localhost:8080/"
        },
        "id": "3u7PKOHJdtQG",
        "outputId": "eb3cd2d7-758e-4698-b3cc-e560ae3cc6fb"
      },
      "source": [
        "y_predict_DF=clfDF.predict(X_test)\n",
        "print('Model accuracy score: {0:0.4f}'.format(accuracy_score(y_test,y_predict_DF)))"
      ],
      "execution_count": 51,
      "outputs": [
        {
          "output_type": "stream",
          "name": "stdout",
          "text": [
            "Model accuracy score: 0.6926\n"
          ]
        }
      ]
    },
    {
      "cell_type": "code",
      "metadata": {
        "colab": {
          "base_uri": "https://localhost:8080/"
        },
        "id": "na-OOFLtdtYQ",
        "outputId": "88cf65ce-295e-4fb3-e35c-c3969aca6f95"
      },
      "source": [
        "#Pelatihan dan validasi menggunakan 𝑘-fold cross validation, 𝑘 = 5\n",
        "clfET=ExtraTreesClassifier(n_estimators=10, max_depth=None, min_samples_split=2, random_state=0)\n",
        "clfET=clfET.fit(X_train, y_train)\n",
        "scores=cross_val_score(clfET, X_train,y_train,cv=5)\n",
        "scores.mean()"
      ],
      "execution_count": 52,
      "outputs": [
        {
          "output_type": "execute_result",
          "data": {
            "text/plain": [
              "0.7021633783316027"
            ]
          },
          "metadata": {},
          "execution_count": 52
        }
      ]
    },
    {
      "cell_type": "code",
      "metadata": {
        "colab": {
          "base_uri": "https://localhost:8080/"
        },
        "id": "vuGZeVdydtgV",
        "outputId": "ede2ac0b-e5b0-430e-ef09-760f93aad61f"
      },
      "source": [
        "#Pelatihan dan validasi menggunakan 𝑘-fold cross validation, 𝑘 = 5\n",
        "y_predict_ET=clfET.predict(X_test)\n",
        "print('Model accuracy score: {0:0.4f}'.format(accuracy_score(y_test, y_predict_ET)))"
      ],
      "execution_count": 53,
      "outputs": [
        {
          "output_type": "stream",
          "name": "stdout",
          "text": [
            "Model accuracy score: 0.7273\n"
          ]
        }
      ]
    },
    {
      "cell_type": "code",
      "metadata": {
        "colab": {
          "base_uri": "https://localhost:8080/"
        },
        "id": "V7tIwoikme3U",
        "outputId": "1f571b55-36f1-4cf1-bab3-cde82ef7b1af"
      },
      "source": [
        "from sklearn.model_selection import cross_val_score\n",
        "from sklearn.datasets import load_iris\n",
        "from sklearn.ensemble import AdaBoostClassifier\n",
        "clfAB=AdaBoostClassifier(n_estimators=100)\n",
        "clfAB.fit(X_train,y_train)\n",
        "clfAB.score(X_test,y_test)"
      ],
      "execution_count": 54,
      "outputs": [
        {
          "output_type": "execute_result",
          "data": {
            "text/plain": [
              "0.8008658008658008"
            ]
          },
          "metadata": {},
          "execution_count": 54
        }
      ]
    },
    {
      "cell_type": "code",
      "metadata": {
        "colab": {
          "base_uri": "https://localhost:8080/"
        },
        "id": "slft8Vrime-u",
        "outputId": "2b9ab6f0-cb7c-4786-9736-3e7efa12ee3f"
      },
      "source": [
        "y_predict_AB=clfAB.predict(X_test)\n",
        "print('Model accuracy score: {0:0.4f}'.format(accuracy_score(y_test,y_predict_AB)))"
      ],
      "execution_count": 55,
      "outputs": [
        {
          "output_type": "stream",
          "name": "stdout",
          "text": [
            "Model accuracy score: 0.8009\n"
          ]
        }
      ]
    },
    {
      "cell_type": "code",
      "metadata": {
        "colab": {
          "base_uri": "https://localhost:8080/"
        },
        "id": "-e27kijenPxJ",
        "outputId": "88a7de1f-94b2-4565-9d4e-cc03a8c6c270"
      },
      "source": [
        "from sklearn.ensemble import GradientBoostingClassifier\n",
        "clfGB=GradientBoostingClassifier(n_estimators=100,learning_rate=1.0,\n",
        "                                 max_depth=1,random_state=0).fit(X_train,y_train)\n",
        "y_predict_GB=clfGB.predict(X_test)\n",
        "print('Model accuracy score: {0:0.4f}'.format(accuracy_score(y_test,y_predict_GB)))"
      ],
      "execution_count": 56,
      "outputs": [
        {
          "output_type": "stream",
          "name": "stdout",
          "text": [
            "Model accuracy score: 0.7922\n"
          ]
        }
      ]
    },
    {
      "cell_type": "code",
      "metadata": {
        "colab": {
          "base_uri": "https://localhost:8080/"
        },
        "id": "_g4vWhROnPzU",
        "outputId": "4610f434-2702-42c5-8498-23203603c7a1"
      },
      "source": [
        "from sklearn.ensemble import BaggingClassifier\n",
        "from sklearn.neighbors import KNeighborsClassifier\n",
        "bagging_KN=BaggingClassifier(KNeighborsClassifier(),max_samples=0.5,max_features=0.5)\n",
        "bagging_KN.fit(X_train,y_train)\n",
        "y_test_bagging_KN=bagging_KN.predict(X_test)\n",
        "print('Model accuracy score: {0:0.4f}'.format(accuracy_score(y_test,y_test_bagging_KN)))"
      ],
      "execution_count": 57,
      "outputs": [
        {
          "output_type": "stream",
          "name": "stdout",
          "text": [
            "Model accuracy score: 0.7316\n"
          ]
        }
      ]
    },
    {
      "cell_type": "code",
      "metadata": {
        "colab": {
          "base_uri": "https://localhost:8080/"
        },
        "id": "2W6g03b3nP2C",
        "outputId": "c7d57dbe-c998-4913-8dae-b608f54cae19"
      },
      "source": [
        "from sklearn.ensemble import BaggingClassifier\n",
        "from sklearn.ensemble import AdaBoostClassifier\n",
        "bagging_AB=BaggingClassifier(AdaBoostClassifier(),max_samples=0.6,max_features=0.5)\n",
        "bagging_AB.fit(X_train,y_train)\n",
        "y_test_bagging_AB=bagging_AB.predict(X_test)\n",
        "print('Model accuracy score: {0:0.4f}'.format(accuracy_score(y_test,y_test_bagging_AB)))"
      ],
      "execution_count": 58,
      "outputs": [
        {
          "output_type": "stream",
          "name": "stdout",
          "text": [
            "Model accuracy score: 0.7749\n"
          ]
        }
      ]
    },
    {
      "cell_type": "code",
      "metadata": {
        "colab": {
          "base_uri": "https://localhost:8080/"
        },
        "id": "EqE6hjrNqJNv",
        "outputId": "bea693a5-dd08-4a70-ac38-f08098783e47"
      },
      "source": [
        "print('Model Random Forest Classifier accuracy score: {0:0.4f}'.format(accuracy_score(y_test,y_predict_RF)))\n",
        "print('Model Desicion Tree Classifier accuracy score: {0:0.4f}'.format(accuracy_score(y_test,y_predict_DF)))\n",
        "print('Model Extra Tree Classifier accuracy score: {0:0.4f}'.format(accuracy_score(y_test,y_predict_ET)))\n",
        "print('Model Adaboost Classifier accuracy score: {0:0.4f}'.format(accuracy_score(y_test,y_predict_AB)))\n",
        "print('Model GradientBoost Classifier accuracy score: {0:0.4f}'.format(accuracy_score(y_test,y_predict_GB)))\n",
        "print('Model KNeighbors Bagging Classifier accuracy score: {0:0.4f}'.format(accuracy_score(y_test,y_test_bagging_KN)))\n",
        "print('Model AdaBoost Bagging Classifier: {0:0.4f}'.format(accuracy_score(y_test,y_test_bagging_AB)))"
      ],
      "execution_count": 59,
      "outputs": [
        {
          "output_type": "stream",
          "name": "stdout",
          "text": [
            "Model Random Forest Classifier accuracy score: 0.7489\n",
            "Model Desicion Tree Classifier accuracy score: 0.6926\n",
            "Model Extra Tree Classifier accuracy score: 0.7273\n",
            "Model Adaboost Classifier accuracy score: 0.8009\n",
            "Model GradientBoost Classifier accuracy score: 0.7922\n",
            "Model KNeighbors Bagging Classifier accuracy score: 0.7316\n",
            "Model AdaBoost Bagging Classifier: 0.7749\n"
          ]
        }
      ]
    },
    {
      "cell_type": "markdown",
      "metadata": {
        "id": "P8qMOHSrq362"
      },
      "source": [
        "Classifier yang memperoleh akurasi tertinggi adalah Adaboost Classifier accuracy yaitu dengan score 0.8009"
      ]
    }
  ]
}