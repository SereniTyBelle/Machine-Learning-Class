{
  "nbformat": 4,
  "nbformat_minor": 5,
  "metadata": {
    "kernelspec": {
      "display_name": "Python 3",
      "language": "python",
      "name": "python3"
    },
    "language_info": {
      "codemirror_mode": {
        "name": "ipython",
        "version": 3
      },
      "file_extension": ".py",
      "mimetype": "text/x-python",
      "name": "python",
      "nbconvert_exporter": "python",
      "pygments_lexer": "ipython3",
      "version": "3.9.5"
    },
    "colab": {
      "name": "535180096_Quiz.ipynb",
      "provenance": [],
      "collapsed_sections": []
    }
  },
  "cells": [
    {
      "cell_type": "markdown",
      "metadata": {
        "id": "b1d268bc"
      },
      "source": [
        "Dataset 'titanicfull.csv' terdiri atas 11 kolom:\n",
        "pcalss: kelas tiket, terdiri atas 3 kategori yaitu 1, 2, dan 3\n",
        "survived: kelas target, bernilai '0' jika penumpang meninggal dan '1' jika penumpang masih hidup setelah kecelakaan kapal Titanic\n",
        "name: nama penumpang\n",
        "sex: jenis kelamin\n",
        "age: umur\n",
        "sibsp: jumlah saudara atau pasangan\n",
        "parch: jumlah orang tua\n",
        "ticket: kode tiket\n",
        "fare: harga tiket yang berhubungan dengan kelas tiket. Setiap kelas tiket memiliki interval harga tertentu. \n",
        "Cabin: kabin kapal\n",
        "embarked: kode pelabuhan asal keberangkatan\n",
        "\n",
        "Buatlah kode python untuk melakukan klasifikasi pada data 'titanicfull.csv'. Kelas target yaitu kolom 'survived'!\n",
        "Anda harus melakukan pra-pemrosesan data agar data dapat diterima oleh sistem"
      ],
      "id": "b1d268bc"
    },
    {
      "cell_type": "markdown",
      "metadata": {
        "id": "5f7758e5"
      },
      "source": [
        "1. Buat kode python untuk membaca data dari file  'titanicfull.csv' !"
      ],
      "id": "5f7758e5"
    },
    {
      "cell_type": "code",
      "metadata": {
        "colab": {
          "base_uri": "https://localhost:8080/",
          "height": 496
        },
        "id": "a19e769b",
        "outputId": "6464bad5-324a-4d88-add6-4cd9a0883451"
      },
      "source": [
        "import numpy as np\n",
        "import pandas as pd\n",
        "import matplotlib.pyplot as plt\n",
        "import seaborn as sns\n",
        "from sklearn.ensemble import RandomForestClassifier\n",
        "from sklearn.ensemble import ExtraTreesClassifier\n",
        "from sklearn.tree import DecisionTreeClassifier\n",
        "from sklearn.model_selection import train_test_split\n",
        "\n",
        "\n",
        "pdf=pd.read_csv(\"titanicFull.csv\")\n",
        "pdf=pdf.iloc[1: , :]\n",
        "col_names=['Class','Survived','Name','Sex','Age','SIBSP','Parch','Ticket',\n",
        "           'Fare', 'Cabin', 'Embarked']\n",
        "pdf.columns=col_names\n",
        "\n",
        "col_names\n",
        "pdf.head()"
      ],
      "id": "a19e769b",
      "execution_count": 286,
      "outputs": [
        {
          "output_type": "execute_result",
          "data": {
            "text/html": [
              "<div>\n",
              "<style scoped>\n",
              "    .dataframe tbody tr th:only-of-type {\n",
              "        vertical-align: middle;\n",
              "    }\n",
              "\n",
              "    .dataframe tbody tr th {\n",
              "        vertical-align: top;\n",
              "    }\n",
              "\n",
              "    .dataframe thead th {\n",
              "        text-align: right;\n",
              "    }\n",
              "</style>\n",
              "<table border=\"1\" class=\"dataframe\">\n",
              "  <thead>\n",
              "    <tr style=\"text-align: right;\">\n",
              "      <th></th>\n",
              "      <th>Class</th>\n",
              "      <th>Survived</th>\n",
              "      <th>Name</th>\n",
              "      <th>Sex</th>\n",
              "      <th>Age</th>\n",
              "      <th>SIBSP</th>\n",
              "      <th>Parch</th>\n",
              "      <th>Ticket</th>\n",
              "      <th>Fare</th>\n",
              "      <th>Cabin</th>\n",
              "      <th>Embarked</th>\n",
              "    </tr>\n",
              "  </thead>\n",
              "  <tbody>\n",
              "    <tr>\n",
              "      <th>1</th>\n",
              "      <td>1</td>\n",
              "      <td>1</td>\n",
              "      <td>Allison, Master. Hudson Trevor</td>\n",
              "      <td>male</td>\n",
              "      <td>0.92</td>\n",
              "      <td>1</td>\n",
              "      <td>2</td>\n",
              "      <td>113781</td>\n",
              "      <td>151.55</td>\n",
              "      <td>C22 C26</td>\n",
              "      <td>S</td>\n",
              "    </tr>\n",
              "    <tr>\n",
              "      <th>2</th>\n",
              "      <td>1</td>\n",
              "      <td>0</td>\n",
              "      <td>Allison, Miss. Helen Loraine</td>\n",
              "      <td>female</td>\n",
              "      <td>2.00</td>\n",
              "      <td>1</td>\n",
              "      <td>2</td>\n",
              "      <td>113781</td>\n",
              "      <td>151.55</td>\n",
              "      <td>C22 C26</td>\n",
              "      <td>S</td>\n",
              "    </tr>\n",
              "    <tr>\n",
              "      <th>3</th>\n",
              "      <td>1</td>\n",
              "      <td>0</td>\n",
              "      <td>Allison, Mr. Hudson Joshua Creighton</td>\n",
              "      <td>male</td>\n",
              "      <td>30.00</td>\n",
              "      <td>1</td>\n",
              "      <td>2</td>\n",
              "      <td>113781</td>\n",
              "      <td>151.55</td>\n",
              "      <td>C22 C26</td>\n",
              "      <td>S</td>\n",
              "    </tr>\n",
              "    <tr>\n",
              "      <th>4</th>\n",
              "      <td>1</td>\n",
              "      <td>0</td>\n",
              "      <td>Allison, Mrs. Hudson J C (Bessie Waldo Daniels)</td>\n",
              "      <td>female</td>\n",
              "      <td>25.00</td>\n",
              "      <td>1</td>\n",
              "      <td>2</td>\n",
              "      <td>113781</td>\n",
              "      <td>151.55</td>\n",
              "      <td>C22 C26</td>\n",
              "      <td>S</td>\n",
              "    </tr>\n",
              "    <tr>\n",
              "      <th>5</th>\n",
              "      <td>1</td>\n",
              "      <td>1</td>\n",
              "      <td>Anderson, Mr. Harry</td>\n",
              "      <td>male</td>\n",
              "      <td>48.00</td>\n",
              "      <td>0</td>\n",
              "      <td>0</td>\n",
              "      <td>19952</td>\n",
              "      <td>26.55</td>\n",
              "      <td>E12</td>\n",
              "      <td>S</td>\n",
              "    </tr>\n",
              "  </tbody>\n",
              "</table>\n",
              "</div>"
            ],
            "text/plain": [
              "   Class  Survived  ...    Cabin Embarked\n",
              "1      1         1  ...  C22 C26        S\n",
              "2      1         0  ...  C22 C26        S\n",
              "3      1         0  ...  C22 C26        S\n",
              "4      1         0  ...  C22 C26        S\n",
              "5      1         1  ...      E12        S\n",
              "\n",
              "[5 rows x 11 columns]"
            ]
          },
          "metadata": {},
          "execution_count": 286
        }
      ]
    },
    {
      "cell_type": "markdown",
      "metadata": {
        "id": "ddc6e3df"
      },
      "source": [
        "2. Tampilkan informasi data dengan perintah dataframe.info()!"
      ],
      "id": "ddc6e3df"
    },
    {
      "cell_type": "code",
      "metadata": {
        "colab": {
          "base_uri": "https://localhost:8080/"
        },
        "id": "ee5524f6",
        "outputId": "657802a6-7ad8-4831-bb6e-4c1822d1e106"
      },
      "source": [
        "pdf.info()"
      ],
      "id": "ee5524f6",
      "execution_count": 287,
      "outputs": [
        {
          "output_type": "stream",
          "name": "stdout",
          "text": [
            "<class 'pandas.core.frame.DataFrame'>\n",
            "RangeIndex: 1308 entries, 1 to 1308\n",
            "Data columns (total 11 columns):\n",
            " #   Column    Non-Null Count  Dtype  \n",
            "---  ------    --------------  -----  \n",
            " 0   Class     1308 non-null   int64  \n",
            " 1   Survived  1308 non-null   int64  \n",
            " 2   Name      1308 non-null   object \n",
            " 3   Sex       1308 non-null   object \n",
            " 4   Age       1045 non-null   float64\n",
            " 5   SIBSP     1308 non-null   int64  \n",
            " 6   Parch     1308 non-null   int64  \n",
            " 7   Ticket    1308 non-null   object \n",
            " 8   Fare      1307 non-null   float64\n",
            " 9   Cabin     294 non-null    object \n",
            " 10  Embarked  1306 non-null   object \n",
            "dtypes: float64(2), int64(4), object(5)\n",
            "memory usage: 112.5+ KB\n"
          ]
        }
      ]
    },
    {
      "cell_type": "markdown",
      "metadata": {
        "id": "6de960b0"
      },
      "source": [
        "3. Buat kode python untuk menampilkan nama kolom dari dataset tersebut!"
      ],
      "id": "6de960b0"
    },
    {
      "cell_type": "code",
      "metadata": {
        "colab": {
          "base_uri": "https://localhost:8080/"
        },
        "id": "2a71daf7",
        "outputId": "01e2da35-d913-4b3a-f3f9-3e61c0829c41"
      },
      "source": [
        "pdf.columns"
      ],
      "id": "2a71daf7",
      "execution_count": 288,
      "outputs": [
        {
          "output_type": "execute_result",
          "data": {
            "text/plain": [
              "Index(['Class', 'Survived', 'Name', 'Sex', 'Age', 'SIBSP', 'Parch', 'Ticket',\n",
              "       'Fare', 'Cabin', 'Embarked'],\n",
              "      dtype='object')"
            ]
          },
          "metadata": {},
          "execution_count": 288
        }
      ]
    },
    {
      "cell_type": "markdown",
      "metadata": {
        "id": "49022d2a"
      },
      "source": [
        "4. Buat kode python untuk memeriksa apakah ada missing valus pada dataset!"
      ],
      "id": "49022d2a"
    },
    {
      "cell_type": "code",
      "metadata": {
        "colab": {
          "base_uri": "https://localhost:8080/"
        },
        "id": "bd4fdbf5",
        "outputId": "96a32be9-1938-410d-e6b8-1a94de06217e"
      },
      "source": [
        "pdf.isnull().sum()"
      ],
      "id": "bd4fdbf5",
      "execution_count": 289,
      "outputs": [
        {
          "output_type": "execute_result",
          "data": {
            "text/plain": [
              "Class          0\n",
              "Survived       0\n",
              "Name           0\n",
              "Sex            0\n",
              "Age          263\n",
              "SIBSP          0\n",
              "Parch          0\n",
              "Ticket         0\n",
              "Fare           1\n",
              "Cabin       1014\n",
              "Embarked       2\n",
              "dtype: int64"
            ]
          },
          "metadata": {},
          "execution_count": 289
        }
      ]
    },
    {
      "cell_type": "markdown",
      "metadata": {
        "id": "2fb1bd6b"
      },
      "source": [
        "3. Apakah terdapat kolom yang memiliki missing values lebih dari 30%? Jika ada maka buatlah kode python untuk menghapus kolom tersebut!"
      ],
      "id": "2fb1bd6b"
    },
    {
      "cell_type": "code",
      "metadata": {
        "colab": {
          "base_uri": "https://localhost:8080/"
        },
        "id": "67395fc2",
        "outputId": "55276ac1-7b69-425f-b6eb-c845c44c26b5"
      },
      "source": [
        "col_names1=pdf.columns[pdf.isnull().mean()<0.3]\n",
        "col_names1"
      ],
      "id": "67395fc2",
      "execution_count": 290,
      "outputs": [
        {
          "output_type": "execute_result",
          "data": {
            "text/plain": [
              "Index(['Class', 'Survived', 'Name', 'Sex', 'Age', 'SIBSP', 'Parch', 'Ticket',\n",
              "       'Fare', 'Embarked'],\n",
              "      dtype='object')"
            ]
          },
          "metadata": {},
          "execution_count": 290
        }
      ]
    },
    {
      "cell_type": "code",
      "metadata": {
        "colab": {
          "base_uri": "https://localhost:8080/"
        },
        "id": "N2_I7sqiyid-",
        "outputId": "306ee8f0-7317-42ee-fd3d-44a4a15e736d"
      },
      "source": [
        "pdf1=pdf.drop(['Cabin'], axis=1)\n",
        "pdf1.columns"
      ],
      "id": "N2_I7sqiyid-",
      "execution_count": 291,
      "outputs": [
        {
          "output_type": "execute_result",
          "data": {
            "text/plain": [
              "Index(['Class', 'Survived', 'Name', 'Sex', 'Age', 'SIBSP', 'Parch', 'Ticket',\n",
              "       'Fare', 'Embarked'],\n",
              "      dtype='object')"
            ]
          },
          "metadata": {},
          "execution_count": 291
        }
      ]
    },
    {
      "cell_type": "markdown",
      "metadata": {
        "id": "b2ca30b2"
      },
      "source": [
        "4. Buat kode python untuk mengganti missing values pada kolom 'age' dengan median dari nilai kolom 'age'!"
      ],
      "id": "b2ca30b2"
    },
    {
      "cell_type": "code",
      "metadata": {
        "id": "30c24480"
      },
      "source": [
        "pdf1['Age'].fillna((pdf1[\"Age\"].mean()),inplace=True)"
      ],
      "id": "30c24480",
      "execution_count": 292,
      "outputs": []
    },
    {
      "cell_type": "markdown",
      "metadata": {
        "id": "a609721f"
      },
      "source": [
        "5. Buat kode python untuk missing values pada kolom 'emberked' dengan mode dari nilai kolom 'embarked'!"
      ],
      "id": "a609721f"
    },
    {
      "cell_type": "code",
      "metadata": {
        "id": "f2a42876"
      },
      "source": [
        "pdf1['Embarked'].fillna(pdf1['Embarked'].mode()[0],inplace=True)"
      ],
      "id": "f2a42876",
      "execution_count": 293,
      "outputs": []
    },
    {
      "cell_type": "markdown",
      "metadata": {
        "id": "f7d0fb9d"
      },
      "source": [
        "6. Buat kode python untuk menampilkan sampel dari dataset yang memiliki missing values pada kolom 'fare'!"
      ],
      "id": "f7d0fb9d"
    },
    {
      "cell_type": "code",
      "metadata": {
        "colab": {
          "base_uri": "https://localhost:8080/",
          "height": 97
        },
        "id": "a87ce76f",
        "outputId": "1aad2d76-31dd-44ca-fd86-e80bea7222c2"
      },
      "source": [
        "pdf1.loc[pdf1['Fare'].isna()==True]"
      ],
      "id": "a87ce76f",
      "execution_count": 294,
      "outputs": [
        {
          "output_type": "execute_result",
          "data": {
            "text/html": [
              "<div>\n",
              "<style scoped>\n",
              "    .dataframe tbody tr th:only-of-type {\n",
              "        vertical-align: middle;\n",
              "    }\n",
              "\n",
              "    .dataframe tbody tr th {\n",
              "        vertical-align: top;\n",
              "    }\n",
              "\n",
              "    .dataframe thead th {\n",
              "        text-align: right;\n",
              "    }\n",
              "</style>\n",
              "<table border=\"1\" class=\"dataframe\">\n",
              "  <thead>\n",
              "    <tr style=\"text-align: right;\">\n",
              "      <th></th>\n",
              "      <th>Class</th>\n",
              "      <th>Survived</th>\n",
              "      <th>Name</th>\n",
              "      <th>Sex</th>\n",
              "      <th>Age</th>\n",
              "      <th>SIBSP</th>\n",
              "      <th>Parch</th>\n",
              "      <th>Ticket</th>\n",
              "      <th>Fare</th>\n",
              "      <th>Embarked</th>\n",
              "    </tr>\n",
              "  </thead>\n",
              "  <tbody>\n",
              "    <tr>\n",
              "      <th>1225</th>\n",
              "      <td>3</td>\n",
              "      <td>0</td>\n",
              "      <td>Storey, Mr. Thomas</td>\n",
              "      <td>male</td>\n",
              "      <td>60.5</td>\n",
              "      <td>0</td>\n",
              "      <td>0</td>\n",
              "      <td>3701</td>\n",
              "      <td>NaN</td>\n",
              "      <td>S</td>\n",
              "    </tr>\n",
              "  </tbody>\n",
              "</table>\n",
              "</div>"
            ],
            "text/plain": [
              "      Class  Survived                Name   Sex  ...  Parch  Ticket  Fare Embarked\n",
              "1225      3         0  Storey, Mr. Thomas  male  ...      0    3701   NaN        S\n",
              "\n",
              "[1 rows x 10 columns]"
            ]
          },
          "metadata": {},
          "execution_count": 294
        }
      ]
    },
    {
      "cell_type": "markdown",
      "metadata": {
        "id": "0e06ef1c"
      },
      "source": [
        "Pilih salah satu dari 2 metode berikut:\n",
        "\n",
        "Harga tiket pada kolom 'fare' berhubungan dengan kelas tiket kolom 'pclass'. Setiap kelas tiket memiliki interval harga tiketyang berbeda. \n",
        "\n",
        "7(a) [Bonus 10 poin] Buat kode python untuk mengganti missing value pada kolom 'fare' sesuai dengan nilai mode dari harga tiket pada kelas tertentu. Misalnya sampel yang memiliki missing value kolom 'fare' memiliki nilai pclass = 3, maka missing value tersebut harus diisi dengan nilai mode dari harga tiket di kelas tersebut. \n",
        "\n",
        "7 (b) Buat kode python untuk mengganti missing value pada kolom 'fare' dengan nilai rata-rata dari harga tiket seluruh penumpang!"
      ],
      "id": "0e06ef1c"
    },
    {
      "cell_type": "code",
      "metadata": {
        "id": "169e3590"
      },
      "source": [
        "for col_names1 in  ['Fare']:\n",
        "  pdf1[col_names1]=pdf1[col_names1].fillna(pdf1['Class'])"
      ],
      "id": "169e3590",
      "execution_count": 295,
      "outputs": []
    },
    {
      "cell_type": "markdown",
      "metadata": {
        "id": "61fbe9ff"
      },
      "source": [
        "8. Buat kode python untuk memeriksa apakah masih ada missing values! Jika masih ada missing values, buat kode python untuk mengisi data yang tidak lengkap tersebut."
      ],
      "id": "61fbe9ff"
    },
    {
      "cell_type": "code",
      "metadata": {
        "colab": {
          "base_uri": "https://localhost:8080/"
        },
        "id": "0ce04739",
        "outputId": "81d2c9fc-632a-491c-d3cf-07ee3452dbdd"
      },
      "source": [
        "pdf1.isna().sum()"
      ],
      "id": "0ce04739",
      "execution_count": 296,
      "outputs": [
        {
          "output_type": "execute_result",
          "data": {
            "text/plain": [
              "Class       0\n",
              "Survived    0\n",
              "Name        0\n",
              "Sex         0\n",
              "Age         0\n",
              "SIBSP       0\n",
              "Parch       0\n",
              "Ticket      0\n",
              "Fare        0\n",
              "Embarked    0\n",
              "dtype: int64"
            ]
          },
          "metadata": {},
          "execution_count": 296
        }
      ]
    },
    {
      "cell_type": "markdown",
      "metadata": {
        "id": "5e06779b"
      },
      "source": [
        "9. Tampilkan 5 sampel teratas setelah pra-pemrosesan data!"
      ],
      "id": "5e06779b"
    },
    {
      "cell_type": "code",
      "metadata": {
        "colab": {
          "base_uri": "https://localhost:8080/",
          "height": 496
        },
        "id": "f7287a56",
        "outputId": "dcbad46d-b965-420b-df64-a460afc63d96"
      },
      "source": [
        "pdf1.head()"
      ],
      "id": "f7287a56",
      "execution_count": 297,
      "outputs": [
        {
          "output_type": "execute_result",
          "data": {
            "text/html": [
              "<div>\n",
              "<style scoped>\n",
              "    .dataframe tbody tr th:only-of-type {\n",
              "        vertical-align: middle;\n",
              "    }\n",
              "\n",
              "    .dataframe tbody tr th {\n",
              "        vertical-align: top;\n",
              "    }\n",
              "\n",
              "    .dataframe thead th {\n",
              "        text-align: right;\n",
              "    }\n",
              "</style>\n",
              "<table border=\"1\" class=\"dataframe\">\n",
              "  <thead>\n",
              "    <tr style=\"text-align: right;\">\n",
              "      <th></th>\n",
              "      <th>Class</th>\n",
              "      <th>Survived</th>\n",
              "      <th>Name</th>\n",
              "      <th>Sex</th>\n",
              "      <th>Age</th>\n",
              "      <th>SIBSP</th>\n",
              "      <th>Parch</th>\n",
              "      <th>Ticket</th>\n",
              "      <th>Fare</th>\n",
              "      <th>Embarked</th>\n",
              "    </tr>\n",
              "  </thead>\n",
              "  <tbody>\n",
              "    <tr>\n",
              "      <th>1</th>\n",
              "      <td>1</td>\n",
              "      <td>1</td>\n",
              "      <td>Allison, Master. Hudson Trevor</td>\n",
              "      <td>male</td>\n",
              "      <td>0.92</td>\n",
              "      <td>1</td>\n",
              "      <td>2</td>\n",
              "      <td>113781</td>\n",
              "      <td>151.55</td>\n",
              "      <td>S</td>\n",
              "    </tr>\n",
              "    <tr>\n",
              "      <th>2</th>\n",
              "      <td>1</td>\n",
              "      <td>0</td>\n",
              "      <td>Allison, Miss. Helen Loraine</td>\n",
              "      <td>female</td>\n",
              "      <td>2.00</td>\n",
              "      <td>1</td>\n",
              "      <td>2</td>\n",
              "      <td>113781</td>\n",
              "      <td>151.55</td>\n",
              "      <td>S</td>\n",
              "    </tr>\n",
              "    <tr>\n",
              "      <th>3</th>\n",
              "      <td>1</td>\n",
              "      <td>0</td>\n",
              "      <td>Allison, Mr. Hudson Joshua Creighton</td>\n",
              "      <td>male</td>\n",
              "      <td>30.00</td>\n",
              "      <td>1</td>\n",
              "      <td>2</td>\n",
              "      <td>113781</td>\n",
              "      <td>151.55</td>\n",
              "      <td>S</td>\n",
              "    </tr>\n",
              "    <tr>\n",
              "      <th>4</th>\n",
              "      <td>1</td>\n",
              "      <td>0</td>\n",
              "      <td>Allison, Mrs. Hudson J C (Bessie Waldo Daniels)</td>\n",
              "      <td>female</td>\n",
              "      <td>25.00</td>\n",
              "      <td>1</td>\n",
              "      <td>2</td>\n",
              "      <td>113781</td>\n",
              "      <td>151.55</td>\n",
              "      <td>S</td>\n",
              "    </tr>\n",
              "    <tr>\n",
              "      <th>5</th>\n",
              "      <td>1</td>\n",
              "      <td>1</td>\n",
              "      <td>Anderson, Mr. Harry</td>\n",
              "      <td>male</td>\n",
              "      <td>48.00</td>\n",
              "      <td>0</td>\n",
              "      <td>0</td>\n",
              "      <td>19952</td>\n",
              "      <td>26.55</td>\n",
              "      <td>S</td>\n",
              "    </tr>\n",
              "  </tbody>\n",
              "</table>\n",
              "</div>"
            ],
            "text/plain": [
              "   Class  Survived  ...    Fare Embarked\n",
              "1      1         1  ...  151.55        S\n",
              "2      1         0  ...  151.55        S\n",
              "3      1         0  ...  151.55        S\n",
              "4      1         0  ...  151.55        S\n",
              "5      1         1  ...   26.55        S\n",
              "\n",
              "[5 rows x 10 columns]"
            ]
          },
          "metadata": {},
          "execution_count": 297
        }
      ]
    },
    {
      "cell_type": "markdown",
      "metadata": {
        "id": "c6769b15"
      },
      "source": [
        "10. Ganti nilai pada kolom 'sex' dengan male = 0 dan female = 1!"
      ],
      "id": "c6769b15"
    },
    {
      "cell_type": "code",
      "metadata": {
        "colab": {
          "base_uri": "https://localhost:8080/",
          "height": 419
        },
        "id": "I3YNYZ8Y-0Lk",
        "outputId": "519e822b-13bb-4e5f-b098-fc9685f48ec0"
      },
      "source": [
        "pdf1[\"Sex\"]= pdf1['Sex'].map({'male':0, 'female':1}).astype(int)\n",
        "pdf1"
      ],
      "id": "I3YNYZ8Y-0Lk",
      "execution_count": 298,
      "outputs": [
        {
          "output_type": "execute_result",
          "data": {
            "text/html": [
              "<div>\n",
              "<style scoped>\n",
              "    .dataframe tbody tr th:only-of-type {\n",
              "        vertical-align: middle;\n",
              "    }\n",
              "\n",
              "    .dataframe tbody tr th {\n",
              "        vertical-align: top;\n",
              "    }\n",
              "\n",
              "    .dataframe thead th {\n",
              "        text-align: right;\n",
              "    }\n",
              "</style>\n",
              "<table border=\"1\" class=\"dataframe\">\n",
              "  <thead>\n",
              "    <tr style=\"text-align: right;\">\n",
              "      <th></th>\n",
              "      <th>Class</th>\n",
              "      <th>Survived</th>\n",
              "      <th>Name</th>\n",
              "      <th>Sex</th>\n",
              "      <th>Age</th>\n",
              "      <th>SIBSP</th>\n",
              "      <th>Parch</th>\n",
              "      <th>Ticket</th>\n",
              "      <th>Fare</th>\n",
              "      <th>Embarked</th>\n",
              "    </tr>\n",
              "  </thead>\n",
              "  <tbody>\n",
              "    <tr>\n",
              "      <th>1</th>\n",
              "      <td>1</td>\n",
              "      <td>1</td>\n",
              "      <td>Allison, Master. Hudson Trevor</td>\n",
              "      <td>0</td>\n",
              "      <td>0.920000</td>\n",
              "      <td>1</td>\n",
              "      <td>2</td>\n",
              "      <td>113781</td>\n",
              "      <td>151.5500</td>\n",
              "      <td>S</td>\n",
              "    </tr>\n",
              "    <tr>\n",
              "      <th>2</th>\n",
              "      <td>1</td>\n",
              "      <td>0</td>\n",
              "      <td>Allison, Miss. Helen Loraine</td>\n",
              "      <td>1</td>\n",
              "      <td>2.000000</td>\n",
              "      <td>1</td>\n",
              "      <td>2</td>\n",
              "      <td>113781</td>\n",
              "      <td>151.5500</td>\n",
              "      <td>S</td>\n",
              "    </tr>\n",
              "    <tr>\n",
              "      <th>3</th>\n",
              "      <td>1</td>\n",
              "      <td>0</td>\n",
              "      <td>Allison, Mr. Hudson Joshua Creighton</td>\n",
              "      <td>0</td>\n",
              "      <td>30.000000</td>\n",
              "      <td>1</td>\n",
              "      <td>2</td>\n",
              "      <td>113781</td>\n",
              "      <td>151.5500</td>\n",
              "      <td>S</td>\n",
              "    </tr>\n",
              "    <tr>\n",
              "      <th>4</th>\n",
              "      <td>1</td>\n",
              "      <td>0</td>\n",
              "      <td>Allison, Mrs. Hudson J C (Bessie Waldo Daniels)</td>\n",
              "      <td>1</td>\n",
              "      <td>25.000000</td>\n",
              "      <td>1</td>\n",
              "      <td>2</td>\n",
              "      <td>113781</td>\n",
              "      <td>151.5500</td>\n",
              "      <td>S</td>\n",
              "    </tr>\n",
              "    <tr>\n",
              "      <th>5</th>\n",
              "      <td>1</td>\n",
              "      <td>1</td>\n",
              "      <td>Anderson, Mr. Harry</td>\n",
              "      <td>0</td>\n",
              "      <td>48.000000</td>\n",
              "      <td>0</td>\n",
              "      <td>0</td>\n",
              "      <td>19952</td>\n",
              "      <td>26.5500</td>\n",
              "      <td>S</td>\n",
              "    </tr>\n",
              "    <tr>\n",
              "      <th>...</th>\n",
              "      <td>...</td>\n",
              "      <td>...</td>\n",
              "      <td>...</td>\n",
              "      <td>...</td>\n",
              "      <td>...</td>\n",
              "      <td>...</td>\n",
              "      <td>...</td>\n",
              "      <td>...</td>\n",
              "      <td>...</td>\n",
              "      <td>...</td>\n",
              "    </tr>\n",
              "    <tr>\n",
              "      <th>1304</th>\n",
              "      <td>3</td>\n",
              "      <td>0</td>\n",
              "      <td>Zabour, Miss. Hileni</td>\n",
              "      <td>1</td>\n",
              "      <td>14.500000</td>\n",
              "      <td>1</td>\n",
              "      <td>0</td>\n",
              "      <td>2665</td>\n",
              "      <td>14.4542</td>\n",
              "      <td>C</td>\n",
              "    </tr>\n",
              "    <tr>\n",
              "      <th>1305</th>\n",
              "      <td>3</td>\n",
              "      <td>0</td>\n",
              "      <td>Zabour, Miss. Thamine</td>\n",
              "      <td>1</td>\n",
              "      <td>29.881981</td>\n",
              "      <td>1</td>\n",
              "      <td>0</td>\n",
              "      <td>2665</td>\n",
              "      <td>14.4542</td>\n",
              "      <td>C</td>\n",
              "    </tr>\n",
              "    <tr>\n",
              "      <th>1306</th>\n",
              "      <td>3</td>\n",
              "      <td>0</td>\n",
              "      <td>Zakarian, Mr. Mapriededer</td>\n",
              "      <td>0</td>\n",
              "      <td>26.500000</td>\n",
              "      <td>0</td>\n",
              "      <td>0</td>\n",
              "      <td>2656</td>\n",
              "      <td>7.2250</td>\n",
              "      <td>C</td>\n",
              "    </tr>\n",
              "    <tr>\n",
              "      <th>1307</th>\n",
              "      <td>3</td>\n",
              "      <td>0</td>\n",
              "      <td>Zakarian, Mr. Ortin</td>\n",
              "      <td>0</td>\n",
              "      <td>27.000000</td>\n",
              "      <td>0</td>\n",
              "      <td>0</td>\n",
              "      <td>2670</td>\n",
              "      <td>7.2250</td>\n",
              "      <td>C</td>\n",
              "    </tr>\n",
              "    <tr>\n",
              "      <th>1308</th>\n",
              "      <td>3</td>\n",
              "      <td>0</td>\n",
              "      <td>Zimmerman, Mr. Leo</td>\n",
              "      <td>0</td>\n",
              "      <td>29.000000</td>\n",
              "      <td>0</td>\n",
              "      <td>0</td>\n",
              "      <td>315082</td>\n",
              "      <td>7.8750</td>\n",
              "      <td>S</td>\n",
              "    </tr>\n",
              "  </tbody>\n",
              "</table>\n",
              "<p>1308 rows × 10 columns</p>\n",
              "</div>"
            ],
            "text/plain": [
              "      Class  Survived  ...      Fare  Embarked\n",
              "1         1         1  ...  151.5500         S\n",
              "2         1         0  ...  151.5500         S\n",
              "3         1         0  ...  151.5500         S\n",
              "4         1         0  ...  151.5500         S\n",
              "5         1         1  ...   26.5500         S\n",
              "...     ...       ...  ...       ...       ...\n",
              "1304      3         0  ...   14.4542         C\n",
              "1305      3         0  ...   14.4542         C\n",
              "1306      3         0  ...    7.2250         C\n",
              "1307      3         0  ...    7.2250         C\n",
              "1308      3         0  ...    7.8750         S\n",
              "\n",
              "[1308 rows x 10 columns]"
            ]
          },
          "metadata": {},
          "execution_count": 298
        }
      ]
    },
    {
      "cell_type": "markdown",
      "metadata": {
        "id": "20f28a5f"
      },
      "source": [
        "11. Ganti nilai pada kolom 'embarked' dengan S = 1, C = 2, Q = 3!"
      ],
      "id": "20f28a5f"
    },
    {
      "cell_type": "code",
      "metadata": {
        "colab": {
          "base_uri": "https://localhost:8080/",
          "height": 419
        },
        "id": "a4df17ee",
        "outputId": "694bac07-c872-4ce9-e8ff-40166fee1dc2"
      },
      "source": [
        "pdf1[\"Embarked\"]=pdf1['Embarked'].map({'S':1,'C':2,'Q':3}).astype(int)\n",
        "pdf1"
      ],
      "id": "a4df17ee",
      "execution_count": 299,
      "outputs": [
        {
          "output_type": "execute_result",
          "data": {
            "text/html": [
              "<div>\n",
              "<style scoped>\n",
              "    .dataframe tbody tr th:only-of-type {\n",
              "        vertical-align: middle;\n",
              "    }\n",
              "\n",
              "    .dataframe tbody tr th {\n",
              "        vertical-align: top;\n",
              "    }\n",
              "\n",
              "    .dataframe thead th {\n",
              "        text-align: right;\n",
              "    }\n",
              "</style>\n",
              "<table border=\"1\" class=\"dataframe\">\n",
              "  <thead>\n",
              "    <tr style=\"text-align: right;\">\n",
              "      <th></th>\n",
              "      <th>Class</th>\n",
              "      <th>Survived</th>\n",
              "      <th>Name</th>\n",
              "      <th>Sex</th>\n",
              "      <th>Age</th>\n",
              "      <th>SIBSP</th>\n",
              "      <th>Parch</th>\n",
              "      <th>Ticket</th>\n",
              "      <th>Fare</th>\n",
              "      <th>Embarked</th>\n",
              "    </tr>\n",
              "  </thead>\n",
              "  <tbody>\n",
              "    <tr>\n",
              "      <th>1</th>\n",
              "      <td>1</td>\n",
              "      <td>1</td>\n",
              "      <td>Allison, Master. Hudson Trevor</td>\n",
              "      <td>0</td>\n",
              "      <td>0.920000</td>\n",
              "      <td>1</td>\n",
              "      <td>2</td>\n",
              "      <td>113781</td>\n",
              "      <td>151.5500</td>\n",
              "      <td>1</td>\n",
              "    </tr>\n",
              "    <tr>\n",
              "      <th>2</th>\n",
              "      <td>1</td>\n",
              "      <td>0</td>\n",
              "      <td>Allison, Miss. Helen Loraine</td>\n",
              "      <td>1</td>\n",
              "      <td>2.000000</td>\n",
              "      <td>1</td>\n",
              "      <td>2</td>\n",
              "      <td>113781</td>\n",
              "      <td>151.5500</td>\n",
              "      <td>1</td>\n",
              "    </tr>\n",
              "    <tr>\n",
              "      <th>3</th>\n",
              "      <td>1</td>\n",
              "      <td>0</td>\n",
              "      <td>Allison, Mr. Hudson Joshua Creighton</td>\n",
              "      <td>0</td>\n",
              "      <td>30.000000</td>\n",
              "      <td>1</td>\n",
              "      <td>2</td>\n",
              "      <td>113781</td>\n",
              "      <td>151.5500</td>\n",
              "      <td>1</td>\n",
              "    </tr>\n",
              "    <tr>\n",
              "      <th>4</th>\n",
              "      <td>1</td>\n",
              "      <td>0</td>\n",
              "      <td>Allison, Mrs. Hudson J C (Bessie Waldo Daniels)</td>\n",
              "      <td>1</td>\n",
              "      <td>25.000000</td>\n",
              "      <td>1</td>\n",
              "      <td>2</td>\n",
              "      <td>113781</td>\n",
              "      <td>151.5500</td>\n",
              "      <td>1</td>\n",
              "    </tr>\n",
              "    <tr>\n",
              "      <th>5</th>\n",
              "      <td>1</td>\n",
              "      <td>1</td>\n",
              "      <td>Anderson, Mr. Harry</td>\n",
              "      <td>0</td>\n",
              "      <td>48.000000</td>\n",
              "      <td>0</td>\n",
              "      <td>0</td>\n",
              "      <td>19952</td>\n",
              "      <td>26.5500</td>\n",
              "      <td>1</td>\n",
              "    </tr>\n",
              "    <tr>\n",
              "      <th>...</th>\n",
              "      <td>...</td>\n",
              "      <td>...</td>\n",
              "      <td>...</td>\n",
              "      <td>...</td>\n",
              "      <td>...</td>\n",
              "      <td>...</td>\n",
              "      <td>...</td>\n",
              "      <td>...</td>\n",
              "      <td>...</td>\n",
              "      <td>...</td>\n",
              "    </tr>\n",
              "    <tr>\n",
              "      <th>1304</th>\n",
              "      <td>3</td>\n",
              "      <td>0</td>\n",
              "      <td>Zabour, Miss. Hileni</td>\n",
              "      <td>1</td>\n",
              "      <td>14.500000</td>\n",
              "      <td>1</td>\n",
              "      <td>0</td>\n",
              "      <td>2665</td>\n",
              "      <td>14.4542</td>\n",
              "      <td>2</td>\n",
              "    </tr>\n",
              "    <tr>\n",
              "      <th>1305</th>\n",
              "      <td>3</td>\n",
              "      <td>0</td>\n",
              "      <td>Zabour, Miss. Thamine</td>\n",
              "      <td>1</td>\n",
              "      <td>29.881981</td>\n",
              "      <td>1</td>\n",
              "      <td>0</td>\n",
              "      <td>2665</td>\n",
              "      <td>14.4542</td>\n",
              "      <td>2</td>\n",
              "    </tr>\n",
              "    <tr>\n",
              "      <th>1306</th>\n",
              "      <td>3</td>\n",
              "      <td>0</td>\n",
              "      <td>Zakarian, Mr. Mapriededer</td>\n",
              "      <td>0</td>\n",
              "      <td>26.500000</td>\n",
              "      <td>0</td>\n",
              "      <td>0</td>\n",
              "      <td>2656</td>\n",
              "      <td>7.2250</td>\n",
              "      <td>2</td>\n",
              "    </tr>\n",
              "    <tr>\n",
              "      <th>1307</th>\n",
              "      <td>3</td>\n",
              "      <td>0</td>\n",
              "      <td>Zakarian, Mr. Ortin</td>\n",
              "      <td>0</td>\n",
              "      <td>27.000000</td>\n",
              "      <td>0</td>\n",
              "      <td>0</td>\n",
              "      <td>2670</td>\n",
              "      <td>7.2250</td>\n",
              "      <td>2</td>\n",
              "    </tr>\n",
              "    <tr>\n",
              "      <th>1308</th>\n",
              "      <td>3</td>\n",
              "      <td>0</td>\n",
              "      <td>Zimmerman, Mr. Leo</td>\n",
              "      <td>0</td>\n",
              "      <td>29.000000</td>\n",
              "      <td>0</td>\n",
              "      <td>0</td>\n",
              "      <td>315082</td>\n",
              "      <td>7.8750</td>\n",
              "      <td>1</td>\n",
              "    </tr>\n",
              "  </tbody>\n",
              "</table>\n",
              "<p>1308 rows × 10 columns</p>\n",
              "</div>"
            ],
            "text/plain": [
              "      Class  Survived  ...      Fare  Embarked\n",
              "1         1         1  ...  151.5500         1\n",
              "2         1         0  ...  151.5500         1\n",
              "3         1         0  ...  151.5500         1\n",
              "4         1         0  ...  151.5500         1\n",
              "5         1         1  ...   26.5500         1\n",
              "...     ...       ...  ...       ...       ...\n",
              "1304      3         0  ...   14.4542         2\n",
              "1305      3         0  ...   14.4542         2\n",
              "1306      3         0  ...    7.2250         2\n",
              "1307      3         0  ...    7.2250         2\n",
              "1308      3         0  ...    7.8750         1\n",
              "\n",
              "[1308 rows x 10 columns]"
            ]
          },
          "metadata": {},
          "execution_count": 299
        }
      ]
    },
    {
      "cell_type": "markdown",
      "metadata": {
        "id": "3e1a3d5f"
      },
      "source": [
        "12. Tentukan fitur dan kelas target dari dataset tersebut, kemudian simpan fitur dalam variabel X dan kelas target dalam variabel Y.\n",
        "\n",
        "Kolom nama dan kode tiket tidak digunakan."
      ],
      "id": "3e1a3d5f"
    },
    {
      "cell_type": "code",
      "metadata": {
        "id": "2bfb1741"
      },
      "source": [
        "x= pdf1.drop(['Name','Ticket','Survived','Class'], axis=1)\n",
        "y=pdf1['Survived']"
      ],
      "id": "2bfb1741",
      "execution_count": 300,
      "outputs": []
    },
    {
      "cell_type": "markdown",
      "metadata": {
        "id": "4737640e"
      },
      "source": [
        "13. Bagi data menjadi data latih dan data uji, dengan komposisi 30% data uji!"
      ],
      "id": "4737640e"
    },
    {
      "cell_type": "code",
      "metadata": {
        "id": "44ddc246"
      },
      "source": [
        "x_train, x_test,y_train,y_test=train_test_split(x,y,test_size=0.3, random_state=10)"
      ],
      "id": "44ddc246",
      "execution_count": 301,
      "outputs": []
    },
    {
      "cell_type": "markdown",
      "metadata": {
        "id": "ab152703"
      },
      "source": [
        "Pilih 3 classifier untuk membangun model klasifikasi (Logistic regression, Decision tree, k-nearest neighbor, neural network, ensemble method)"
      ],
      "id": "ab152703"
    },
    {
      "cell_type": "markdown",
      "metadata": {
        "id": "1ba62c56"
      },
      "source": [
        "14. Buat kode python untuk membangun model klasifikasi (classifier 1)! Kemudian lakukan pelatihan menggunakan data latih!"
      ],
      "id": "1ba62c56"
    },
    {
      "cell_type": "code",
      "metadata": {
        "colab": {
          "base_uri": "https://localhost:8080/"
        },
        "id": "709d107f",
        "outputId": "4ada4e4e-9bf2-485b-9821-becfa6c5ee16"
      },
      "source": [
        "clfRF=RandomForestClassifier(n_estimators=10)\n",
        "clfRF=clfRF.fit(x_train, y_train)\n",
        "clfRF.score(x_test, y_test)"
      ],
      "id": "709d107f",
      "execution_count": 302,
      "outputs": [
        {
          "output_type": "execute_result",
          "data": {
            "text/plain": [
              "0.7684478371501272"
            ]
          },
          "metadata": {},
          "execution_count": 302
        }
      ]
    },
    {
      "cell_type": "markdown",
      "metadata": {
        "id": "55714e38"
      },
      "source": [
        "15. Buat kode python untuk melakukan pengujian model classifier 1 dengan data uji!"
      ],
      "id": "55714e38"
    },
    {
      "cell_type": "code",
      "metadata": {
        "colab": {
          "base_uri": "https://localhost:8080/"
        },
        "id": "702b1771",
        "outputId": "62715635-cb1e-4d29-f109-395e4727fbae"
      },
      "source": [
        "y_predict_RF=clfRF.predict(x_test)\n",
        "from sklearn.metrics import accuracy_score\n",
        "print('Model accuracy score: {0:0.4f}'.format(accuracy_score(y_test,y_predict_RF)))"
      ],
      "id": "702b1771",
      "execution_count": 303,
      "outputs": [
        {
          "output_type": "stream",
          "name": "stdout",
          "text": [
            "Model accuracy score: 0.7684\n"
          ]
        }
      ]
    },
    {
      "cell_type": "markdown",
      "metadata": {
        "id": "9819bedc"
      },
      "source": [
        "16. Buat kode python untuk membangun model klasifikasi (classifier 2)! Kemudian lakukan pelatihan menggunakan data latih!"
      ],
      "id": "9819bedc"
    },
    {
      "cell_type": "code",
      "metadata": {
        "id": "f25fa283"
      },
      "source": [
        "clfDF=DecisionTreeClassifier(max_depth=None, min_samples_split=2, random_state=0)\n",
        "clfDF=clfDF.fit(x_train,y_train)"
      ],
      "id": "f25fa283",
      "execution_count": 304,
      "outputs": []
    },
    {
      "cell_type": "markdown",
      "metadata": {
        "id": "4a700576"
      },
      "source": [
        "17. Buat kode python untuk melakukan pengujian model classifier 2 dengan data uji!"
      ],
      "id": "4a700576"
    },
    {
      "cell_type": "code",
      "metadata": {
        "colab": {
          "base_uri": "https://localhost:8080/"
        },
        "id": "29b94496",
        "outputId": "47157e82-a8e1-4987-ec2a-e31a4c5038cf"
      },
      "source": [
        "y_predict_DF=clfDF.predict(x_test)\n",
        "print('Model accuracy score: {0:0.4f}'.format(accuracy_score(y_test,y_predict_DF)))"
      ],
      "id": "29b94496",
      "execution_count": 305,
      "outputs": [
        {
          "output_type": "stream",
          "name": "stdout",
          "text": [
            "Model accuracy score: 0.7710\n"
          ]
        }
      ]
    },
    {
      "cell_type": "markdown",
      "metadata": {
        "id": "87991fbc"
      },
      "source": [
        "18. Buat kode python untuk membangun model klasifikasi (classifier 3)! Kemudian lakukan pelatihan menggunakan data latih!"
      ],
      "id": "87991fbc"
    },
    {
      "cell_type": "code",
      "metadata": {
        "colab": {
          "base_uri": "https://localhost:8080/"
        },
        "id": "2bfe5d31",
        "outputId": "17e65baf-ee4b-4f35-93ba-b7b03996205d"
      },
      "source": [
        "from sklearn.model_selection import cross_val_score\n",
        "from sklearn.datasets import load_iris\n",
        "from sklearn.ensemble import AdaBoostClassifier\n",
        "clfAB= AdaBoostClassifier(n_estimators=100)\n",
        "clfAB.fit(x_train,y_train)\n",
        "clfAB.score(x_test,y_test)"
      ],
      "id": "2bfe5d31",
      "execution_count": 306,
      "outputs": [
        {
          "output_type": "execute_result",
          "data": {
            "text/plain": [
              "0.7913486005089059"
            ]
          },
          "metadata": {},
          "execution_count": 306
        }
      ]
    },
    {
      "cell_type": "markdown",
      "metadata": {
        "id": "cfe4391b"
      },
      "source": [
        "19. Buat kode python untuk melakukan pengujian model classifier 3 dengan data uji!"
      ],
      "id": "cfe4391b"
    },
    {
      "cell_type": "code",
      "metadata": {
        "colab": {
          "base_uri": "https://localhost:8080/"
        },
        "id": "523be75b",
        "outputId": "24dd8f86-56db-409e-ce82-bef01f7afbaf"
      },
      "source": [
        "y_predict_AB=clfAB.predict(x_test)\n",
        "print('Model accuracy score: {0:0.4f}'.format(accuracy_score(y_test,y_predict_AB)))"
      ],
      "id": "523be75b",
      "execution_count": 307,
      "outputs": [
        {
          "output_type": "stream",
          "name": "stdout",
          "text": [
            "Model accuracy score: 0.7913\n"
          ]
        }
      ]
    },
    {
      "cell_type": "markdown",
      "metadata": {
        "id": "07242d4b"
      },
      "source": [
        "20. Buat kode python untuk menghitung akurasi dari classifier 1, 2 dan 3!"
      ],
      "id": "07242d4b"
    },
    {
      "cell_type": "code",
      "metadata": {
        "colab": {
          "base_uri": "https://localhost:8080/"
        },
        "id": "5912b795",
        "outputId": "fed4f296-51ed-4841-c161-0e4e32da9ca2"
      },
      "source": [
        "print('Random Forest Classifier Model accuracy score: {0:0.4f}'.format(accuracy_score(y_test,y_predict_RF)))\n",
        "print('Decision Tree Classifier Model accuracy score: {0:0.4f}'.format(accuracy_score(y_test,y_predict_DF)))\n",
        "print('Adaboost Classifier Model accuracy score: {0:0.4f}'.format(accuracy_score(y_test,y_predict_AB)))"
      ],
      "id": "5912b795",
      "execution_count": 308,
      "outputs": [
        {
          "output_type": "stream",
          "name": "stdout",
          "text": [
            "Random Forest Classifier Model accuracy score: 0.7684\n",
            "Decision Tree Classifier Model accuracy score: 0.7710\n",
            "Adaboost Classifier Model accuracy score: 0.7913\n"
          ]
        }
      ]
    },
    {
      "cell_type": "markdown",
      "metadata": {
        "id": "c62973dc"
      },
      "source": [
        "21. Manakah di antara 3 classifier yang menghasilkan akurasi tertinggi dan terendah?"
      ],
      "id": "c62973dc"
    },
    {
      "cell_type": "markdown",
      "metadata": {
        "id": "iC7LeNPW9aU3"
      },
      "source": [
        "Dari ketiga classifier yang telah diuji, Adaboost Classifier Model paling tinggi tingkat akurasinya sedangkan paling rendah adalah Random Forest Classifier"
      ],
      "id": "iC7LeNPW9aU3"
    },
    {
      "cell_type": "markdown",
      "metadata": {
        "id": "38f4db99"
      },
      "source": [
        "22. Buat kode python untuk menghitung confusion matrix dari 3 classifier yang Anda gunakan!"
      ],
      "id": "38f4db99"
    },
    {
      "cell_type": "code",
      "metadata": {
        "colab": {
          "base_uri": "https://localhost:8080/"
        },
        "id": "90990135",
        "outputId": "e7586c61-5d89-414a-f518-cadee59e23dd"
      },
      "source": [
        "from sklearn.metrics import confusion_matrix\n",
        "from sklearn.metrics import classification_report\n",
        "\n",
        "cm1=confusion_matrix(y_test,y_predict_RF)\n",
        "cm2= confusion_matrix(y_test,y_predict_DF)\n",
        "cm3=confusion_matrix(y_test,y_predict_AB)\n",
        "\n",
        "print(\"Random Forest Classifier Model\")\n",
        "print(classification_report(y_test,y_predict_RF),'\\n')\n",
        "\n",
        "print(\"Decision Tree Classifier Model\")\n",
        "print(classification_report(y_test,y_predict_DF),'\\n')\n",
        "\n",
        "print(\"Adaboost Classifier Model\")\n",
        "print(classification_report(y_test,y_predict_AB))"
      ],
      "id": "90990135",
      "execution_count": 309,
      "outputs": [
        {
          "output_type": "stream",
          "name": "stdout",
          "text": [
            "Random Forest Classifier Model\n",
            "              precision    recall  f1-score   support\n",
            "\n",
            "           0       0.79      0.85      0.82       239\n",
            "           1       0.73      0.65      0.69       154\n",
            "\n",
            "    accuracy                           0.77       393\n",
            "   macro avg       0.76      0.75      0.75       393\n",
            "weighted avg       0.77      0.77      0.77       393\n",
            " \n",
            "\n",
            "Decision Tree Classifier Model\n",
            "              precision    recall  f1-score   support\n",
            "\n",
            "           0       0.81      0.82      0.81       239\n",
            "           1       0.71      0.70      0.71       154\n",
            "\n",
            "    accuracy                           0.77       393\n",
            "   macro avg       0.76      0.76      0.76       393\n",
            "weighted avg       0.77      0.77      0.77       393\n",
            " \n",
            "\n",
            "Adaboost Classifier Model\n",
            "              precision    recall  f1-score   support\n",
            "\n",
            "           0       0.81      0.86      0.83       239\n",
            "           1       0.76      0.69      0.72       154\n",
            "\n",
            "    accuracy                           0.79       393\n",
            "   macro avg       0.78      0.77      0.78       393\n",
            "weighted avg       0.79      0.79      0.79       393\n",
            "\n"
          ]
        }
      ]
    }
  ]
}