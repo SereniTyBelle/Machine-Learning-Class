{
 "cells": [
  {
   "cell_type": "markdown",
   "id": "2d8217d5",
   "metadata": {},
   "source": [
    "Lakukan klasifikasi menggunaakan decision tree dari Data diabetes.csv"
   ]
  },
  {
   "cell_type": "markdown",
   "id": "df2a2a5f",
   "metadata": {},
   "source": [
    "1. Baca data diabetes"
   ]
  },
  {
   "cell_type": "code",
   "execution_count": 1,
   "id": "3739d08a",
   "metadata": {},
   "outputs": [],
   "source": [
    "import numpy as np\n",
    "import pandas as pd\n",
    "import matplotlib.pyplot as plt\n",
    "import seaborn as sns\n",
    "%matplotlib inline\n",
    "\n",
    "df = pd.read_csv('diabetes.csv')"
   ]
  },
  {
   "cell_type": "markdown",
   "id": "9f7a4ed2",
   "metadata": {},
   "source": [
    "2. Tampilkan 5 baris pertama dari dataset"
   ]
  },
  {
   "cell_type": "code",
   "execution_count": 2,
   "id": "f93e17d8",
   "metadata": {},
   "outputs": [
    {
     "data": {
      "text/html": [
       "<div>\n",
       "<style scoped>\n",
       "    .dataframe tbody tr th:only-of-type {\n",
       "        vertical-align: middle;\n",
       "    }\n",
       "\n",
       "    .dataframe tbody tr th {\n",
       "        vertical-align: top;\n",
       "    }\n",
       "\n",
       "    .dataframe thead th {\n",
       "        text-align: right;\n",
       "    }\n",
       "</style>\n",
       "<table border=\"1\" class=\"dataframe\">\n",
       "  <thead>\n",
       "    <tr style=\"text-align: right;\">\n",
       "      <th></th>\n",
       "      <th>Pregnancies</th>\n",
       "      <th>Glucose</th>\n",
       "      <th>BloodPressure</th>\n",
       "      <th>SkinThickness</th>\n",
       "      <th>Insulin</th>\n",
       "      <th>BMI</th>\n",
       "      <th>DiabetesPedigreeFunction</th>\n",
       "      <th>Age</th>\n",
       "      <th>Outcome</th>\n",
       "    </tr>\n",
       "  </thead>\n",
       "  <tbody>\n",
       "    <tr>\n",
       "      <th>0</th>\n",
       "      <td>6</td>\n",
       "      <td>148</td>\n",
       "      <td>72</td>\n",
       "      <td>35</td>\n",
       "      <td>0</td>\n",
       "      <td>33.6</td>\n",
       "      <td>0.627</td>\n",
       "      <td>50</td>\n",
       "      <td>1</td>\n",
       "    </tr>\n",
       "    <tr>\n",
       "      <th>1</th>\n",
       "      <td>1</td>\n",
       "      <td>85</td>\n",
       "      <td>66</td>\n",
       "      <td>29</td>\n",
       "      <td>0</td>\n",
       "      <td>26.6</td>\n",
       "      <td>0.351</td>\n",
       "      <td>31</td>\n",
       "      <td>0</td>\n",
       "    </tr>\n",
       "    <tr>\n",
       "      <th>2</th>\n",
       "      <td>8</td>\n",
       "      <td>183</td>\n",
       "      <td>64</td>\n",
       "      <td>0</td>\n",
       "      <td>0</td>\n",
       "      <td>23.3</td>\n",
       "      <td>0.672</td>\n",
       "      <td>32</td>\n",
       "      <td>1</td>\n",
       "    </tr>\n",
       "    <tr>\n",
       "      <th>3</th>\n",
       "      <td>1</td>\n",
       "      <td>89</td>\n",
       "      <td>66</td>\n",
       "      <td>23</td>\n",
       "      <td>94</td>\n",
       "      <td>28.1</td>\n",
       "      <td>0.167</td>\n",
       "      <td>21</td>\n",
       "      <td>0</td>\n",
       "    </tr>\n",
       "    <tr>\n",
       "      <th>4</th>\n",
       "      <td>0</td>\n",
       "      <td>137</td>\n",
       "      <td>40</td>\n",
       "      <td>35</td>\n",
       "      <td>168</td>\n",
       "      <td>43.1</td>\n",
       "      <td>2.288</td>\n",
       "      <td>33</td>\n",
       "      <td>1</td>\n",
       "    </tr>\n",
       "  </tbody>\n",
       "</table>\n",
       "</div>"
      ],
      "text/plain": [
       "   Pregnancies  Glucose  BloodPressure  SkinThickness  Insulin   BMI  \\\n",
       "0            6      148             72             35        0  33.6   \n",
       "1            1       85             66             29        0  26.6   \n",
       "2            8      183             64              0        0  23.3   \n",
       "3            1       89             66             23       94  28.1   \n",
       "4            0      137             40             35      168  43.1   \n",
       "\n",
       "   DiabetesPedigreeFunction  Age  Outcome  \n",
       "0                     0.627   50        1  \n",
       "1                     0.351   31        0  \n",
       "2                     0.672   32        1  \n",
       "3                     0.167   21        0  \n",
       "4                     2.288   33        1  "
      ]
     },
     "execution_count": 2,
     "metadata": {},
     "output_type": "execute_result"
    }
   ],
   "source": [
    "df.head()"
   ]
  },
  {
   "cell_type": "markdown",
   "id": "52a90754",
   "metadata": {},
   "source": [
    "3. Explore variabel 'Outcome'. Outcome = 1 bearti pasien memiliki penyakit diabetes dan Outcome = 0 menandakan pasien tidak memiliki penyakit diabetes"
   ]
  },
  {
   "cell_type": "code",
   "execution_count": 3,
   "id": "4133561a",
   "metadata": {},
   "outputs": [
    {
     "data": {
      "text/plain": [
       "0    500\n",
       "1    268\n",
       "Name: Outcome, dtype: int64"
      ]
     },
     "execution_count": 3,
     "metadata": {},
     "output_type": "execute_result"
    }
   ],
   "source": [
    "df['Outcome'].value_counts()"
   ]
  },
  {
   "cell_type": "markdown",
   "id": "a7425578",
   "metadata": {},
   "source": [
    "4. Periksa adanya missing values dalam dataset"
   ]
  },
  {
   "cell_type": "code",
   "execution_count": 4,
   "id": "bf7510a4",
   "metadata": {},
   "outputs": [
    {
     "data": {
      "text/plain": [
       "Pregnancies                 0\n",
       "Glucose                     0\n",
       "BloodPressure               0\n",
       "SkinThickness               0\n",
       "Insulin                     0\n",
       "BMI                         0\n",
       "DiabetesPedigreeFunction    0\n",
       "Age                         0\n",
       "Outcome                     0\n",
       "dtype: int64"
      ]
     },
     "execution_count": 4,
     "metadata": {},
     "output_type": "execute_result"
    }
   ],
   "source": [
    "df.isnull().sum()"
   ]
  },
  {
   "cell_type": "markdown",
   "id": "3fdc6c84",
   "metadata": {},
   "source": [
    "5. Tentukan vektor fitur (features) dan variabel target (class)"
   ]
  },
  {
   "cell_type": "code",
   "execution_count": 5,
   "id": "f28dd131",
   "metadata": {},
   "outputs": [],
   "source": [
    "x=df.drop(['Outcome'], axis = 1)\n",
    "\n",
    "y=df['Outcome']"
   ]
  },
  {
   "cell_type": "markdown",
   "id": "4b8fbc51",
   "metadata": {},
   "source": [
    "7. Membagi dataset menjadi 70% data latih (trainig set) dan 30% data uji (testing set)"
   ]
  },
  {
   "cell_type": "code",
   "execution_count": 6,
   "id": "acd3ae9f",
   "metadata": {},
   "outputs": [],
   "source": [
    "from sklearn.model_selection import train_test_split\n",
    "\n",
    "x_train, x_test, y_train, y_test = train_test_split(x, y, test_size = 0.3, random_state = 42)"
   ]
  },
  {
   "cell_type": "markdown",
   "id": "edd14a8a",
   "metadata": {},
   "source": [
    "8. Lakukan prediksi dengan data uji"
   ]
  },
  {
   "cell_type": "code",
   "execution_count": 7,
   "id": "32d010a7",
   "metadata": {},
   "outputs": [],
   "source": [
    "from sklearn.tree import DecisionTreeClassifier\n",
    "\n",
    "df_en= DecisionTreeClassifier(criterion='entropy', max_depth=3, random_state=0)\n",
    "\n",
    "df_en.fit(x_train,y_train)\n",
    "\n",
    "y_pred_en=df_en.predict(x_test)"
   ]
  },
  {
   "cell_type": "markdown",
   "id": "83e644ba",
   "metadata": {},
   "source": [
    "9. Tampilkan skor akurasi dari hasil prediksi menggunakan data uji"
   ]
  },
  {
   "cell_type": "code",
   "execution_count": 9,
   "id": "82b7702c",
   "metadata": {},
   "outputs": [
    {
     "name": "stdout",
     "output_type": "stream",
     "text": [
      "Akurasi dengan kriteria entropi: 0.7186\n"
     ]
    }
   ],
   "source": [
    "from sklearn.metrics import accuracy_score\n",
    "\n",
    "print('Akurasi dengan kriteria entropi: {0:0.4f}'.format(accuracy_score(y_test,y_pred_en)))"
   ]
  },
  {
   "cell_type": "markdown",
   "id": "f9a2f18b",
   "metadata": {},
   "source": [
    "10. Bandingkan akurasi data latih (training set) dan data uji (testing set)"
   ]
  },
  {
   "cell_type": "code",
   "execution_count": 11,
   "id": "435cff9a",
   "metadata": {},
   "outputs": [
    {
     "name": "stdout",
     "output_type": "stream",
     "text": [
      "Akurasi Data Latih: 0.7635\n",
      "Training Score: 0.7635\n",
      "Test Score: 0.7186\n"
     ]
    }
   ],
   "source": [
    "y_pred_train_en=df_en.predict(x_train)\n",
    "\n",
    "y_pred_train_en\n",
    "\n",
    "print('Akurasi Data Latih: {0:0.4f}'.format(accuracy_score(y_train, y_pred_train_en)))\n",
    "print('Training Score: {:.4f}'.format(df_en.score(x_train, y_train)))\n",
    "print('Test Score: {:.4f}'.format(df_en.score(x_test, y_test)))"
   ]
  },
  {
   "cell_type": "markdown",
   "id": "b65594ab",
   "metadata": {},
   "source": [
    "11. Buat visualisai Decision Tree yang telah dibuat"
   ]
  },
  {
   "cell_type": "code",
   "execution_count": 22,
   "id": "be26bc5f",
   "metadata": {},
   "outputs": [
    {
     "data": {
      "text/plain": [
       "[Text(334.8, 380.52, 'X[1] <= 154.5\\nentropy = 0.934\\nsamples = 537\\nvalue = [349, 188]'),\n",
       " Text(167.4, 271.8, 'X[5] <= 26.35\\nentropy = 0.823\\nsamples = 454\\nvalue = [337, 117]'),\n",
       " Text(83.7, 163.07999999999998, 'X[1] <= 124.5\\nentropy = 0.219\\nsamples = 114\\nvalue = [110, 4]'),\n",
       " Text(41.85, 54.360000000000014, 'entropy = 0.085\\nsamples = 94\\nvalue = [93, 1]'),\n",
       " Text(125.55000000000001, 54.360000000000014, 'entropy = 0.61\\nsamples = 20\\nvalue = [17, 3]'),\n",
       " Text(251.10000000000002, 163.07999999999998, 'X[7] <= 28.5\\nentropy = 0.917\\nsamples = 340\\nvalue = [227, 113]'),\n",
       " Text(209.25, 54.360000000000014, 'entropy = 0.662\\nsamples = 163\\nvalue = [135, 28]'),\n",
       " Text(292.95, 54.360000000000014, 'entropy = 0.999\\nsamples = 177\\nvalue = [92, 85]'),\n",
       " Text(502.20000000000005, 271.8, 'X[5] <= 28.7\\nentropy = 0.596\\nsamples = 83\\nvalue = [12, 71]'),\n",
       " Text(418.5, 163.07999999999998, 'X[5] <= 25.35\\nentropy = 0.98\\nsamples = 12\\nvalue = [5, 7]'),\n",
       " Text(376.65000000000003, 54.360000000000014, 'entropy = 0.0\\nsamples = 4\\nvalue = [0, 4]'),\n",
       " Text(460.35, 54.360000000000014, 'entropy = 0.954\\nsamples = 8\\nvalue = [5, 3]'),\n",
       " Text(585.9, 163.07999999999998, 'X[0] <= 6.5\\nentropy = 0.465\\nsamples = 71\\nvalue = [7, 64]'),\n",
       " Text(544.0500000000001, 54.360000000000014, 'entropy = 0.607\\nsamples = 47\\nvalue = [7, 40]'),\n",
       " Text(627.75, 54.360000000000014, 'entropy = 0.0\\nsamples = 24\\nvalue = [0, 24]')]"
      ]
     },
     "execution_count": 22,
     "metadata": {},
     "output_type": "execute_result"
    },
    {
     "data": {
      "image/png": "[encoded data removed]",
      "text/plain": [
       "<Figure size 864x576 with 1 Axes>"
      ]
     },
     "metadata": {
      "needs_background": "light"
     },
     "output_type": "display_data"
    }
   ],
   "source": [
    "from sklearn import tree\n",
    "plt.figure(figsize=(12,8))\n",
    "\n",
    "tree.plot_tree(df_en.fit(x_train,y_train))"
   ]
  },
  {
   "cell_type": "markdown",
   "id": "dfcfcd9c",
   "metadata": {},
   "source": [
    "12. Buatlah Confusion matrix dari hasil klasifikasi yang telah dilakukan!"
   ]
  },
  {
   "cell_type": "code",
   "execution_count": 23,
   "id": "5ca74ab0",
   "metadata": {},
   "outputs": [
    {
     "name": "stdout",
     "output_type": "stream",
     "text": [
      "Confusion Matrix\n",
      "\n",
      " [[141  10]\n",
      " [ 55  25]]\n"
     ]
    }
   ],
   "source": [
    "from sklearn.metrics import confusion_matrix\n",
    "\n",
    "cm= confusion_matrix(y_test, y_pred_en)\n",
    "\n",
    "print('Confusion Matrix\\n\\n', cm)"
   ]
  },
  {
   "cell_type": "markdown",
   "id": "9a6a8019",
   "metadata": {},
   "source": [
    "13. Tampilkan Classification Report"
   ]
  },
  {
   "cell_type": "code",
   "execution_count": 24,
   "id": "72235fc7",
   "metadata": {},
   "outputs": [
    {
     "name": "stdout",
     "output_type": "stream",
     "text": [
      "              precision    recall  f1-score   support\n",
      "\n",
      "           0       0.72      0.93      0.81       151\n",
      "           1       0.71      0.31      0.43        80\n",
      "\n",
      "    accuracy                           0.72       231\n",
      "   macro avg       0.72      0.62      0.62       231\n",
      "weighted avg       0.72      0.72      0.68       231\n",
      "\n"
     ]
    }
   ],
   "source": [
    "from sklearn.metrics import classification_report\n",
    "\n",
    "print(classification_report(y_test, y_pred_en))"
   ]
  }
 ],
 "metadata": {
  "kernelspec": {
   "display_name": "Python 3 (ipykernel)",
   "language": "python",
   "name": "python3"
  },
  "language_info": {
   "codemirror_mode": {
    "name": "ipython",
    "version": 3
   },
   "file_extension": ".py",
   "mimetype": "text/x-python",
   "name": "python",
   "nbconvert_exporter": "python",
   "pygments_lexer": "ipython3",
   "version": "3.9.6"
  }
 },
 "nbformat": 4,
 "nbformat_minor": 5
}
